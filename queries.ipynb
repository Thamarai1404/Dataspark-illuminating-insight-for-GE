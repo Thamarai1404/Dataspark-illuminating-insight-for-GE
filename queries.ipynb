{
 "cells": [
  {
   "cell_type": "code",
   "execution_count": null,
   "metadata": {},
   "outputs": [],
   "source": [
    "# Customer Analysis\n",
    "\n",
    "#1.Demographic Distribution:\n",
    "\n",
    "SELECT Gender,COUNT(*) AS CustomerCount FROM Customers GROUP BY Gender;\n"
   ]
  },
  {
   "cell_type": "code",
   "execution_count": null,
   "metadata": {},
   "outputs": [],
   "source": [
    "#2.Age Distribution:\n",
    "\n",
    "SELECT (YEAR(CURDATE()) - YEAR(STR_TO_DATE(Birthday, '%m/%d/%Y'))) AS Age,COUNT(*) AS CustomerCount FROM Customers GROUP BY Age;\n"
   ]
  },
  {
   "cell_type": "code",
   "execution_count": null,
   "metadata": {},
   "outputs": [],
   "source": [
    "#Sales Analysis:\n",
    "\n",
    "#3.Overall Sales Performance:\n",
    "\n",
    "SELECT \n",
    "    DATE_FORMAT(`Order Date`, '%Y-%m') AS Month,\n",
    "    SUM(`Unit Price USD` * Quantity) AS TotalSales \n",
    "FROM \n",
    "    Sales \n",
    "JOIN \n",
    "    Products \n",
    "ON \n",
    "    Sales.ProductKey = Products.ProductKey \n",
    "GROUP BY \n",
    "    Month \n",
    "ORDER BY \n",
    "    Month;"
   ]
  },
  {
   "cell_type": "code",
   "execution_count": null,
   "metadata": {},
   "outputs": [],
   "source": [
    "# 4.Sales by Product:\n",
    "\n",
    "SELECT \n",
    "    `Product Name`, \n",
    "    SUM(Quantity) AS QuantitySold,\n",
    "    SUM(`Unit Price USD` * Quantity) AS RevenueGenerated \n",
    "FROM \n",
    "    Sales \n",
    "JOIN \n",
    "    Products \n",
    "ON \n",
    "    Sales.ProductKey = Products.ProductKey \n",
    "GROUP BY \n",
    "    `Product Name` \n",
    "ORDER BY \n",
    "    RevenueGenerated DESC;\n"
   ]
  },
  {
   "cell_type": "code",
   "execution_count": null,
   "metadata": {},
   "outputs": [],
   "source": [
    "#5.Sales by Store:\n",
    "\n",
    "SELECT \n",
    "    s.StoreKey,\n",
    "    SUM(p.`Unit Price USD` * s.Quantity) AS TotalSales \n",
    "FROM \n",
    "    Sales s\n",
    "JOIN \n",
    "    Stores st\n",
    "ON \n",
    "    s.StoreKey = st.StoreKey \n",
    "JOIN\n",
    "    Products p\n",
    "ON\n",
    "    s.ProductKey = p.ProductKey\n",
    "GROUP BY \n",
    "    s.StoreKey \n",
    "ORDER BY \n",
    "    TotalSales DESC;\n"
   ]
  },
  {
   "cell_type": "code",
   "execution_count": null,
   "metadata": {},
   "outputs": [],
   "source": [
    "# Product Analysis\n",
    "# 6.Product Popularity:\n",
    "\n",
    "SELECT \n",
    "    `Product Name`, \n",
    "    SUM(Quantity) AS TotalQuantitySold \n",
    "FROM \n",
    "    Sales \n",
    "JOIN \n",
    "    Products \n",
    "ON \n",
    "    Sales.ProductKey = Products.ProductKey \n",
    "GROUP BY \n",
    "    `Product Name` \n",
    "ORDER BY \n",
    "    TotalQuantitySold DESC;\n"
   ]
  },
  {
   "cell_type": "code",
   "execution_count": null,
   "metadata": {},
   "outputs": [],
   "source": [
    "# Sales Analysis\n",
    "# 7.Sales Growth Rate:\n",
    "\n",
    "SELECT YEAR(Order Date) AS Year,SUM(Unit Price USD * Quantity) AS TotalSales FROM Sales \n",
    "JOIN Products ON Sales.ProductKey = Products.ProductKey GROUP BY Year;\n",
    "\n",
    "# Tracking annual sales growth helps identify whether the business is expanding, stagnating, or declining, providing insights for strategic planning.\n",
    "\n"
   ]
  },
  {
   "cell_type": "code",
   "execution_count": null,
   "metadata": {},
   "outputs": [],
   "source": [
    "# 8.Sales by Product Category Over Time:\n",
    "\n",
    "SELECT \n",
    "    DATE_FORMAT(`Order Date`, '%Y-%m') AS Month, \n",
    "    Category,\n",
    "    SUM(`Unit Price USD` * Quantity) AS TotalSales \n",
    "FROM \n",
    "    Sales \n",
    "JOIN \n",
    "    Products \n",
    "ON \n",
    "    Sales.ProductKey = Products.ProductKey \n",
    "GROUP BY \n",
    "    Month, \n",
    "    Category \n",
    "ORDER BY \n",
    "    Month, \n",
    "    Category;\n",
    "\n",
    "#Analyzing sales trends by product category over time helps identify which categories are gaining or losing popularity, informing product development and marketing strategies.\n"
   ]
  },
  {
   "cell_type": "code",
   "execution_count": null,
   "metadata": {},
   "outputs": [],
   "source": [
    "# Store Analysis\n",
    "# 9.Store Opening Impact:\n",
    "\n",
    "SELECT \n",
    "    StoreKey,\n",
    "    MIN(`Order Date`) AS FirstOrderDate \n",
    "FROM \n",
    "    Sales \n",
    "GROUP BY \n",
    "    StoreKey;\n",
    "\n",
    "#Assessing how quickly stores generate sales after opening provides insights into the effectiveness of store launch strategies and the initial customer response.\n"
   ]
  },
  {
   "cell_type": "code",
   "execution_count": null,
   "metadata": {},
   "outputs": [],
   "source": [
    "\n",
    "#Marketing Analysis\n",
    "\n",
    "#10.Campaign Effectiveness:\n",
    "\n",
    "SELECT \n",
    "    CampaignID,\n",
    "    SUM(`Unit Price USD` * Quantity) AS TotalSales \n",
    "FROM \n",
    "    Sales \n",
    "JOIN \n",
    "    Campaigns \n",
    "ON \n",
    "    Sales.CampaignID = Campaigns.CampaignID \n",
    "GROUP BY \n",
    "    CampaignID;\n",
    "\n",
    "#Analyzing sales generated from marketing campaigns helps determine the return on investment (ROI) for each campaign, optimizing marketing budgets.\n",
    "\n"
   ]
  }
 ],
 "metadata": {
  "kernelspec": {
   "display_name": "Python 3",
   "language": "python",
   "name": "python3"
  },
  "language_info": {
   "codemirror_mode": {
    "name": "ipython",
    "version": 3
   },
   "file_extension": ".py",
   "mimetype": "text/x-python",
   "name": "python",
   "nbconvert_exporter": "python",
   "pygments_lexer": "ipython3",
   "version": "3.12.3"
  }
 },
 "nbformat": 4,
 "nbformat_minor": 2
}
